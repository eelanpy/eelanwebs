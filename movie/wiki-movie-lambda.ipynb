{
 "cells": [
  {
   "cell_type": "code",
   "execution_count": 11,
   "metadata": {},
   "outputs": [],
   "source": [
    "### Importing all needed python modules in general:\n",
    "from urllib.request import urlopen as uReq\n",
    "from bs4 import BeautifulSoup as soup"
   ]
  },
  {
   "cell_type": "code",
   "execution_count": 12,
   "metadata": {},
   "outputs": [],
   "source": [
    "import string\n",
    "### Get all links with the link:\n",
    "def get_all_film_letter_links():\n",
    "    url = 'https://en.wikipedia.org/wiki/Lists_of_films'\n",
    "    url_client = uReq(url)\n",
    "    url_soup = soup(url_client, 'html.parser')\n",
    "    links = []\n",
    "    upper_alphabet = [i for i in string.ascii_uppercase] + ['number']\n",
    "    for index,link in enumerate(url_soup.find_all('table')[0].find_all('a')):\n",
    "        links.append('https://en.wikipedia.org' + link['href'] + '#' + upper_alphabet[index])    \n",
    "    return links"
   ]
  },
  {
   "cell_type": "code",
   "execution_count": 13,
   "metadata": {},
   "outputs": [],
   "source": [
    "### Get all films starting with the letter, given:\n",
    "def get_all_films(movieUrl):\n",
    "    url_client = uReq(movieUrl)\n",
    "    url_soup = soup(url_client, 'html.parser')\n",
    "    allMoviesLinks = [movie for div in url_soup.find_all('div', {'class': 'div-col'}) for movie in div.find_all('li')]\n",
    "    allMoviesDict = {}\n",
    "    for movie in allMoviesLinks:\n",
    "        movieName = str(movie.text)\n",
    "        if movieName[0].lower() in movieUrl.split('#')[-1].lower():\n",
    "            try:\n",
    "                allMoviesDict[movieName] = {movie_link['title']:'https://en.wikipedia.org' + movie_link['href'] for movie_link in list(set([movieLink for movieLink in movie.find_all('a')]))}\n",
    "            except:\n",
    "                allMoviesDict[movieName] = []\n",
    "        elif 'the' in movieName.lower()[0:5]:\n",
    "            try:\n",
    "                allMoviesDict[movieName] = {movie_link['title']:'https://en.wikipedia.org' + movie_link['href'] for movie_link in list(set([movieLink for movieLink in movie.find_all('a')]))}\n",
    "            except:\n",
    "                allMoviesDict[movieName] = []\n",
    "\n",
    "    return allMoviesDict"
   ]
  },
  {
   "cell_type": "code",
   "execution_count": 15,
   "metadata": {},
   "outputs": [
    {
     "name": "stdout",
     "output_type": "stream",
     "text": [
      "Done https://en.wikipedia.org/wiki/List_of_films:_A#A\n",
      "Done https://en.wikipedia.org/wiki/List_of_films:_B#B\n",
      "Done https://en.wikipedia.org/wiki/List_of_films:_C#C\n",
      "Done https://en.wikipedia.org/wiki/List_of_films:_D#D\n",
      "Done https://en.wikipedia.org/wiki/List_of_films:_E#E\n",
      "Done https://en.wikipedia.org/wiki/List_of_films:_F#F\n",
      "Done https://en.wikipedia.org/wiki/List_of_films:_G#G\n",
      "Done https://en.wikipedia.org/wiki/List_of_films:_H#H\n",
      "Done https://en.wikipedia.org/wiki/List_of_films:_I#I\n",
      "Done https://en.wikipedia.org/wiki/List_of_films:_J%E2%80%93K#J#J\n",
      "Done https://en.wikipedia.org/wiki/List_of_films:_J%E2%80%93K#K#K\n",
      "Done https://en.wikipedia.org/wiki/List_of_films:_L#L\n",
      "Done https://en.wikipedia.org/wiki/List_of_films:_M#M\n",
      "Done https://en.wikipedia.org/wiki/List_of_films:_N%E2%80%93O#N#N\n",
      "Done https://en.wikipedia.org/wiki/List_of_films:_N%E2%80%93O#N#O\n",
      "Done https://en.wikipedia.org/wiki/List_of_films:_P#P\n",
      "Done https://en.wikipedia.org/wiki/List_of_films:_Q%E2%80%93R#Q#Q\n",
      "Done https://en.wikipedia.org/wiki/List_of_films:_Q%E2%80%93R#R#R\n",
      "Done https://en.wikipedia.org/wiki/List_of_films:_S#S\n",
      "Done https://en.wikipedia.org/wiki/List_of_films:_T#T\n",
      "Done https://en.wikipedia.org/wiki/List_of_films:_U%E2%80%93W#U#U\n",
      "Done https://en.wikipedia.org/wiki/List_of_films:_U%E2%80%93W#V#V\n",
      "Done https://en.wikipedia.org/wiki/List_of_films:_U%E2%80%93W#W#W\n",
      "Done https://en.wikipedia.org/wiki/List_of_films:_X%E2%80%93Z#X#X\n",
      "Done https://en.wikipedia.org/wiki/List_of_films:_X%E2%80%93Z#Y#Y\n",
      "Done https://en.wikipedia.org/wiki/List_of_films:_X%E2%80%93Z#Z#Z\n",
      "Done https://en.wikipedia.org/wiki/List_of_films:_numbers#number\n",
      "Done all letters!\n"
     ]
    }
   ],
   "source": [
    "import time\n",
    "result = {}\n",
    "movieUrl = [i for i in get_all_film_letter_links()]\n",
    "def add_all_movies(movieUrls=get_all_film_letter_links()):\n",
    "    for url in movieUrl:\n",
    "        result.update(get_all_films(url))\n",
    "        time.sleep(5)\n",
    "        print(\"Done \" + url)\n",
    "    time.sleep(2)\n",
    "    print(\"Done all letters!\")\n",
    "\n",
    "add_all_movies()\n"
   ]
  },
  {
   "cell_type": "code",
   "execution_count": 5,
   "metadata": {},
   "outputs": [
    {
     "ename": "KeyboardInterrupt",
     "evalue": "Interrupted by user",
     "output_type": "error",
     "traceback": [
      "\u001b[0;31m---------------------------------------------------------------------------\u001b[0m",
      "\u001b[0;31mKeyboardInterrupt\u001b[0m                         Traceback (most recent call last)",
      "\u001b[0;32m<ipython-input-5-ed9a30b6ec09>\u001b[0m in \u001b[0;36m<module>\u001b[0;34m\u001b[0m\n\u001b[0;32m----> 1\u001b[0;31m \u001b[0minput_words\u001b[0m \u001b[0;34m=\u001b[0m \u001b[0mstr\u001b[0m\u001b[0;34m(\u001b[0m\u001b[0minput\u001b[0m\u001b[0;34m(\u001b[0m\u001b[0;34m'Enter the movie name: '\u001b[0m\u001b[0;34m)\u001b[0m\u001b[0;34m)\u001b[0m\u001b[0;34m.\u001b[0m\u001b[0mlower\u001b[0m\u001b[0;34m(\u001b[0m\u001b[0;34m)\u001b[0m\u001b[0;34m\u001b[0m\u001b[0;34m\u001b[0m\u001b[0m\n\u001b[0m\u001b[1;32m      2\u001b[0m \u001b[0minput_words\u001b[0m \u001b[0;34m=\u001b[0m \u001b[0;34m\"\"\u001b[0m\u001b[0;34m.\u001b[0m\u001b[0mjoin\u001b[0m\u001b[0;34m(\u001b[0m\u001b[0;34m\"\"\u001b[0m\u001b[0;34m.\u001b[0m\u001b[0mjoin\u001b[0m\u001b[0;34m(\u001b[0m\u001b[0minput_words\u001b[0m\u001b[0;34m.\u001b[0m\u001b[0msplit\u001b[0m\u001b[0;34m(\u001b[0m\u001b[0;34m' '\u001b[0m\u001b[0;34m)\u001b[0m\u001b[0;34m)\u001b[0m\u001b[0;34m.\u001b[0m\u001b[0msplit\u001b[0m\u001b[0;34m(\u001b[0m\u001b[0;34m'-'\u001b[0m\u001b[0;34m)\u001b[0m\u001b[0;34m)\u001b[0m\u001b[0;34m\u001b[0m\u001b[0;34m\u001b[0m\u001b[0m\n\u001b[1;32m      3\u001b[0m \u001b[0mprint\u001b[0m\u001b[0;34m(\u001b[0m\u001b[0;34m'\\nDid you mean?: '\u001b[0m\u001b[0;34m)\u001b[0m\u001b[0;34m\u001b[0m\u001b[0;34m\u001b[0m\u001b[0m\n\u001b[1;32m      4\u001b[0m \u001b[0mmatched\u001b[0m \u001b[0;34m=\u001b[0m \u001b[0;34m[\u001b[0m\u001b[0;34m]\u001b[0m\u001b[0;34m\u001b[0m\u001b[0;34m\u001b[0m\u001b[0m\n\u001b[1;32m      5\u001b[0m \u001b[0;32mfor\u001b[0m \u001b[0mi\u001b[0m \u001b[0;32min\u001b[0m \u001b[0mresult\u001b[0m\u001b[0;34m:\u001b[0m\u001b[0;34m\u001b[0m\u001b[0;34m\u001b[0m\u001b[0m\n",
      "\u001b[0;32m~/opt/anaconda3/lib/python3.8/site-packages/ipykernel/kernelbase.py\u001b[0m in \u001b[0;36mraw_input\u001b[0;34m(self, prompt)\u001b[0m\n\u001b[1;32m    858\u001b[0m                 \u001b[0;34m\"raw_input was called, but this frontend does not support input requests.\"\u001b[0m\u001b[0;34m\u001b[0m\u001b[0;34m\u001b[0m\u001b[0m\n\u001b[1;32m    859\u001b[0m             )\n\u001b[0;32m--> 860\u001b[0;31m         return self._input_request(str(prompt),\n\u001b[0m\u001b[1;32m    861\u001b[0m             \u001b[0mself\u001b[0m\u001b[0;34m.\u001b[0m\u001b[0m_parent_ident\u001b[0m\u001b[0;34m,\u001b[0m\u001b[0;34m\u001b[0m\u001b[0;34m\u001b[0m\u001b[0m\n\u001b[1;32m    862\u001b[0m             \u001b[0mself\u001b[0m\u001b[0;34m.\u001b[0m\u001b[0m_parent_header\u001b[0m\u001b[0;34m,\u001b[0m\u001b[0;34m\u001b[0m\u001b[0;34m\u001b[0m\u001b[0m\n",
      "\u001b[0;32m~/opt/anaconda3/lib/python3.8/site-packages/ipykernel/kernelbase.py\u001b[0m in \u001b[0;36m_input_request\u001b[0;34m(self, prompt, ident, parent, password)\u001b[0m\n\u001b[1;32m    902\u001b[0m             \u001b[0;32mexcept\u001b[0m \u001b[0mKeyboardInterrupt\u001b[0m\u001b[0;34m:\u001b[0m\u001b[0;34m\u001b[0m\u001b[0;34m\u001b[0m\u001b[0m\n\u001b[1;32m    903\u001b[0m                 \u001b[0;31m# re-raise KeyboardInterrupt, to truncate traceback\u001b[0m\u001b[0;34m\u001b[0m\u001b[0;34m\u001b[0m\u001b[0;34m\u001b[0m\u001b[0m\n\u001b[0;32m--> 904\u001b[0;31m                 \u001b[0;32mraise\u001b[0m \u001b[0mKeyboardInterrupt\u001b[0m\u001b[0;34m(\u001b[0m\u001b[0;34m\"Interrupted by user\"\u001b[0m\u001b[0;34m)\u001b[0m \u001b[0;32mfrom\u001b[0m \u001b[0;32mNone\u001b[0m\u001b[0;34m\u001b[0m\u001b[0;34m\u001b[0m\u001b[0m\n\u001b[0m\u001b[1;32m    905\u001b[0m             \u001b[0;32mexcept\u001b[0m \u001b[0mException\u001b[0m \u001b[0;32mas\u001b[0m \u001b[0me\u001b[0m\u001b[0;34m:\u001b[0m\u001b[0;34m\u001b[0m\u001b[0;34m\u001b[0m\u001b[0m\n\u001b[1;32m    906\u001b[0m                 \u001b[0mself\u001b[0m\u001b[0;34m.\u001b[0m\u001b[0mlog\u001b[0m\u001b[0;34m.\u001b[0m\u001b[0mwarning\u001b[0m\u001b[0;34m(\u001b[0m\u001b[0;34m\"Invalid Message:\"\u001b[0m\u001b[0;34m,\u001b[0m \u001b[0mexc_info\u001b[0m\u001b[0;34m=\u001b[0m\u001b[0;32mTrue\u001b[0m\u001b[0;34m)\u001b[0m\u001b[0;34m\u001b[0m\u001b[0;34m\u001b[0m\u001b[0m\n",
      "\u001b[0;31mKeyboardInterrupt\u001b[0m: Interrupted by user"
     ]
    }
   ],
   "source": [
    "input_words = str(input('Enter the movie name: ')).lower()\n",
    "input_words = \"\".join(\"\".join(input_words.split(' ')).split('-'))\n",
    "print('\\nDid you mean?: ')\n",
    "matched = []\n",
    "for i in result:\n",
    "    for j in result[i]:\n",
    "\n",
    "        if \"\".join(input_words.split('.')).lower() in \"\".join(\"\".join(\"\".join(j.split(' ')).split('-')).split('.')).lower():\n",
    "                  matched.append(j+': '+ result[i][j])\n",
    "matched = list(set(matched))     \n",
    "for i in sorted(matched):\n",
    "    print(i)"
   ]
  },
  {
   "cell_type": "code",
   "execution_count": 10,
   "metadata": {},
   "outputs": [
    {
     "data": {
      "text/plain": [
       "{'movie_name': 'Spider-Man: Far From Home',\n",
       " 'budget': '$160 million',\n",
       " 'box_office': '$1.132 billion'}"
      ]
     },
     "execution_count": 10,
     "metadata": {},
     "output_type": "execute_result"
    }
   ],
   "source": [
    "def budget_and_box_office_finder(url):\n",
    "#     url = 'https://en.wikipedia.org/wiki/Lists_of_films'\n",
    "    url_client = uReq(url)\n",
    "    url_soup = soup(url_client, 'html.parser')\n",
    "    dict_movie_info = {'movie_name': url_soup.find_all('th', {'class': 'summary'})[0].text}\n",
    "    try:\n",
    "            \n",
    "        for index,data in enumerate(url_soup.body.find_all('td',{'class':'infobox-data'})):\n",
    "            if 'budget' in url_soup.body.find_all('th',{'class':'infobox-label'})[index].text.lower() or 'box' in url_soup.body.find_all('th',{'class':'infobox-label'})[index].text.lower():\n",
    "                    if 'budget' in url_soup.body.find_all('th',{'class':'infobox-label'})[index].text.lower():\n",
    "                        \n",
    "                        dict_movie_info['budget'] = data.text.split('[')[0]\n",
    "                    if 'box' in url_soup.body.find_all('th',{'class':'infobox-label'})[index].text.lower() or 'office' in url_soup.body.find_all('th',{'class':'infobox-label'})[index].text.lower():\n",
    "                        \n",
    "                        dict_movie_info['box_office'] = data.text.split('[')[0]\n",
    "                \n",
    "    except:\n",
    "        print(\"Couldn't find information(budget and/or box office) about movie!\")\n",
    "    return dict_movie_info\n",
    "budget_and_box_office_finder('https://en.wikipedia.org/wiki/Spider-Man:_Far_From_Home')"
   ]
  },
  {
   "cell_type": "code",
   "execution_count": 16,
   "metadata": {},
   "outputs": [],
   "source": [
    "import json\n",
    "with open('movies.json', 'w') as fp:\n",
    "    json.dump(result, fp)"
   ]
  },
  {
   "cell_type": "code",
   "execution_count": 2,
   "metadata": {},
   "outputs": [
    {
     "name": "stdout",
     "output_type": "stream",
     "text": [
      "index.html              result.json             wiki-movie-lambda.ipynb\r\n",
      "movie.html              script.js\r\n",
      "movie_py.js             style.css\r\n"
     ]
    }
   ],
   "source": [
    "result2 = {}\n",
    "for i in result:\n",
    "    if 'spider' in i:\n",
    "        print()"
   ]
  },
  {
   "cell_type": "code",
   "execution_count": 28,
   "metadata": {},
   "outputs": [
    {
     "name": "stdout",
     "output_type": "stream",
     "text": [
      "$25 million\n",
      "$91 million\n"
     ]
    }
   ],
   "source": [
    "url = 'https://en.wikipedia.org/wiki/Romeo_Must_Die'\n",
    "url_client = uReq(url)\n",
    "url_soup = soup(url_client, 'html.parser')\n",
    "labels = url_soup.find_all('th', {'class': 'infobox-label'})\n",
    "data = url_soup.find_all('td', {'class': 'infobox-data'})\n",
    "for i,j in enumerate(labels):\n",
    "    if 'box' in j.text.lower():\n",
    "        print(data[i].text.split('[')[0])\n",
    "    if 'budget' in j.text.lower():\n",
    "        print(data[i].text.split('[')[0])"
   ]
  },
  {
   "cell_type": "code",
   "execution_count": 59,
   "metadata": {},
   "outputs": [
    {
     "data": {
      "text/plain": [
       "{'statusCode': 200,\n",
       " 'headers': {'Access-Control-Allow-Headers': 'Content-Type',\n",
       "  'Access-Control-Allow-Origin': '*',\n",
       "  'Access-Control-Allow-Methods': 'OPTIONS,POST,GET',\n",
       "  'Content-Type': 'application/json'},\n",
       " 'body': '{\"movie_name\": \"Spider-Man: No Way Home\", \"wiki_link\": \"https://en.wikipedia.org/wiki/Spider-Man:_No_Way_Home\", \"budget\": \"$200\\\\u00a0million\", \"box-office\": \"$1.901\\\\u00a0billion\"}'}"
      ]
     },
     "execution_count": 59,
     "metadata": {},
     "output_type": "execute_result"
    }
   ],
   "source": [
    "def lambda_handler(event, context):\n",
    "\n",
    "    try:\n",
    "        url = event['queryStringParameters']['url']\n",
    "        url_client = uReq(url)\n",
    "        url_soup = soup(url_client, 'html.parser')\n",
    "        movieResponse = {'movie_name': url_soup.find_all('th', {'class': 'summary'})[0].text, 'wiki_link': url,'budget':'Not Available','box-office': 'Not Available'}\n",
    "        labels = url_soup.find_all('table',{'class': 'vevent'})[0].find_all('th',{'class':'infobox-label'})\n",
    "        data = url_soup.find_all('table',{'class': 'vevent'})[0].find_all('td',{'class':'infobox-data'})\n",
    "        \n",
    "        for index,label in enumerate(labels):\n",
    "            if 'box' in label.text.lower():\n",
    "                movieResponse['box-office'] = data[index].text.split('[')[0]\n",
    "            elif 'budget' in label.text.lower():\n",
    "                movieResponse['budget'] = data[index].text.split('[')[0]\n",
    "            else:\n",
    "                continue\n",
    "                \n",
    "            \n",
    "        # construct http response object\n",
    "        responseObject = {}\n",
    "        responseObject['statusCode'] = 200\n",
    "        responseObject['headers'] = {'Access-Control-Allow-Headers': 'Content-Type',\n",
    "           'Access-Control-Allow-Origin': '*',\n",
    "            'Access-Control-Allow-Methods': 'OPTIONS,POST,GET'}\n",
    "        responseObject['headers']['Content-Type'] = 'application/json'\n",
    "        responseObject['body'] = json.dumps(movieResponse)\n",
    "    \n",
    "        return responseObject\n",
    "    except:\n",
    "            responseObject = {}\n",
    "            responseObject['statusCode'] = 200\n",
    "            responseObject['headers'] = {'Access-Control-Allow-Headers': 'Content-Type',\n",
    "             'Access-Control-Allow-Origin': '*',\n",
    "            'Access-Control-Allow-Methods': 'OPTIONS,POST,GET'}\n",
    "            \n",
    "            movieResponse = {'message': ''}\n",
    "            responseObject['body'] = json.dumps(movieResponse)\n",
    "            return responseObject\n",
    "        \n",
    "lambda_handler({\n",
    "  \"key1\": \"value1\",\n",
    "  \"key2\": \"value2\",\n",
    "  \"queryStringParameters\": {\n",
    "    \"url\": \"https://en.wikipedia.org/wiki/Spider-Man:_No_Way_Home\"\n",
    "  }},1)"
   ]
  },
  {
   "cell_type": "code",
   "execution_count": 60,
   "metadata": {},
   "outputs": [
    {
     "ename": "SyntaxError",
     "evalue": "invalid syntax (<ipython-input-60-bbc15adcfaa5>, line 1)",
     "output_type": "error",
     "traceback": [
      "\u001b[0;36m  File \u001b[0;32m\"<ipython-input-60-bbc15adcfaa5>\"\u001b[0;36m, line \u001b[0;32m1\u001b[0m\n\u001b[0;31m    list.map(s => {if(s.length % 2 == 0) s.sortWith(_ < _) else s.sortWith(_ > _)})\u001b[0m\n\u001b[0m                ^\u001b[0m\n\u001b[0;31mSyntaxError\u001b[0m\u001b[0;31m:\u001b[0m invalid syntax\n"
     ]
    }
   ],
   "source": [
    "list.map(s => {if(s.length % 2 == 0) s.sortWith(_ < _) else s.sortWith(_ > _)})\n"
   ]
  },
  {
   "cell_type": "code",
   "execution_count": null,
   "metadata": {},
   "outputs": [],
   "source": []
  },
  {
   "cell_type": "code",
   "execution_count": null,
   "metadata": {},
   "outputs": [],
   "source": []
  }
 ],
 "metadata": {
  "kernelspec": {
   "display_name": "Python 3.9.7 64-bit",
   "language": "python",
   "name": "python3"
  },
  "language_info": {
   "codemirror_mode": {
    "name": "ipython",
    "version": 3
   },
   "file_extension": ".py",
   "mimetype": "text/x-python",
   "name": "python",
   "nbconvert_exporter": "python",
   "pygments_lexer": "ipython3",
   "version": "3.9.7"
  },
  "vscode": {
   "interpreter": {
    "hash": "aee8b7b246df8f9039afb4144a1f6fd8d2ca17a180786b69acc140d282b71a49"
   }
  }
 },
 "nbformat": 4,
 "nbformat_minor": 4
}
